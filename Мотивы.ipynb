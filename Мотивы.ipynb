{
 "cells": [
  {
   "cell_type": "code",
   "execution_count": 1,
   "metadata": {},
   "outputs": [],
   "source": [
    "from Bio import SeqIO"
   ]
  },
  {
   "cell_type": "code",
   "execution_count": 4,
   "metadata": {},
   "outputs": [],
   "source": [
    "record = SeqIO.read( \"exercise_files/P17102.gbk\", \"genbank\")"
   ]
  },
  {
   "cell_type": "code",
   "execution_count": 6,
   "metadata": {},
   "outputs": [
    {
     "name": "stdout",
     "output_type": "stream",
     "text": [
      "P17102.1\n"
     ]
    }
   ],
   "source": [
    "print(record.id)"
   ]
  },
  {
   "cell_type": "code",
   "execution_count": 7,
   "metadata": {},
   "outputs": [
    {
     "name": "stdout",
     "output_type": "stream",
     "text": [
      "RecName: Full=Protein X; AltName: Full=HBx; AltName: Full=Peptide X; AltName: Full=pX\n"
     ]
    }
   ],
   "source": [
    "print(record.description)"
   ]
  },
  {
   "cell_type": "code",
   "execution_count": 8,
   "metadata": {},
   "outputs": [
    {
     "name": "stdout",
     "output_type": "stream",
     "text": [
      "X_HBVA4\n"
     ]
    }
   ],
   "source": [
    "print(record.name)"
   ]
  },
  {
   "cell_type": "code",
   "execution_count": 9,
   "metadata": {},
   "outputs": [
    {
     "name": "stdout",
     "output_type": "stream",
     "text": [
      "MATRLCCQLDPSRDVLCLRPVGAESRGRPLSGPLGTLSSPSPSAVPADHGAHLSLRGLPVCAFSSAGPCALRFTSARCMETTVNAHQILPKVLHKRTLGLPAMSTTDLEAYFKDCVFKDWEELGEEIRLKVFVLGGCRHKLVCAPAPCNFFTSA\n"
     ]
    }
   ],
   "source": [
    "print(record.seq)"
   ]
  },
  {
   "cell_type": "code",
   "execution_count": 10,
   "metadata": {},
   "outputs": [],
   "source": [
    "recordFASTA = SeqIO.read( \"exercise_files/P17102.fasta\", \"fasta\")"
   ]
  },
  {
   "cell_type": "code",
   "execution_count": 11,
   "metadata": {},
   "outputs": [
    {
     "name": "stdout",
     "output_type": "stream",
     "text": [
      "sp|P17102|X_HBVA4 Protein X OS=Hepatitis B virus genotype A2 subtype adw2 (isolate Germany/991/1990) GN=X PE=3 SV=1\n"
     ]
    }
   ],
   "source": [
    "print(recordFASTA.description)"
   ]
  },
  {
   "cell_type": "code",
   "execution_count": 12,
   "metadata": {},
   "outputs": [
    {
     "name": "stdout",
     "output_type": "stream",
     "text": [
      "MATRLCCQLDPSRDVLCLRPVGAESRGRPLSGPLGTLSSPSPSAVPADHGAHLSLRGLPVCAFSSAGPCALRFTSARCMETTVNAHQILPKVLHKRTLGLPAMSTTDLEAYFKDCVFKDWEELGEEIRLKVFVLGGCRHKLVCAPAPCNFFTSA\n"
     ]
    }
   ],
   "source": [
    "print(recordFASTA.seq)"
   ]
  },
  {
   "cell_type": "code",
   "execution_count": 13,
   "metadata": {},
   "outputs": [],
   "source": [
    "import os"
   ]
  },
  {
   "cell_type": "code",
   "execution_count": 15,
   "metadata": {},
   "outputs": [],
   "source": [
    "records = []\n",
    "for filename in os.listdir(\"exercise_files/LHBs\"):\n",
    "    handle = open(\"exercise_files/LHBs\" + \"/\" + filename)\n",
    "    record = SeqIO.read( handle, \"swiss\" )\n",
    "    records.append ( record )"
   ]
  },
  {
   "cell_type": "code",
   "execution_count": 16,
   "metadata": {},
   "outputs": [
    {
     "data": {
      "text/plain": [
       "44"
      ]
     },
     "execution_count": 16,
     "metadata": {},
     "output_type": "execute_result"
    }
   ],
   "source": [
    "len(records)"
   ]
  },
  {
   "cell_type": "code",
   "execution_count": 17,
   "metadata": {},
   "outputs": [
    {
     "data": {
      "text/plain": [
       "44"
      ]
     },
     "execution_count": 17,
     "metadata": {},
     "output_type": "execute_result"
    }
   ],
   "source": [
    "SeqIO.write(records, \"LHBs_variants.fasta\", \"fasta\")"
   ]
  },
  {
   "cell_type": "code",
   "execution_count": 18,
   "metadata": {},
   "outputs": [],
   "source": [
    "from Bio import AlignIO"
   ]
  },
  {
   "cell_type": "code",
   "execution_count": 19,
   "metadata": {},
   "outputs": [],
   "source": [
    "alignment = AlignIO.read(open(\"LHBs_variants.aln\"), \"clustal\")"
   ]
  },
  {
   "cell_type": "code",
   "execution_count": 21,
   "metadata": {},
   "outputs": [
    {
     "name": "stdout",
     "output_type": "stream",
     "text": [
      "Alignment length 400\n"
     ]
    }
   ],
   "source": [
    "print(\"Alignment length %i\" % alignment.get_alignment_length())"
   ]
  },
  {
   "cell_type": "code",
   "execution_count": 22,
   "metadata": {},
   "outputs": [
    {
     "name": "stdout",
     "output_type": "stream",
     "text": [
      "ID: Q67867\n",
      "Name: <unknown name>\n",
      "Description: Q67867\n",
      "Number of features: 0\n",
      "Seq('MGGWSSKPRQGMGTNLSVPNPLGFFPDHQLDPAFGANSNNPDWDFNPNKDRWPE...VYI', SingleLetterAlphabet())\n"
     ]
    }
   ],
   "source": [
    "print(alignment[0])"
   ]
  },
  {
   "cell_type": "code",
   "execution_count": 23,
   "metadata": {},
   "outputs": [
    {
     "name": "stdout",
     "output_type": "stream",
     "text": [
      "NNHNNNNNEEEEDENNDNNTNTAAAANNRNNNNRRRNSSSSSSS\n"
     ]
    }
   ],
   "source": [
    "print(alignment[:,38]) #колонка выравнивания с соответв аминакисл"
   ]
  },
  {
   "cell_type": "code",
   "execution_count": 24,
   "metadata": {},
   "outputs": [],
   "source": [
    "from Bio.Align import AlignInfo"
   ]
  },
  {
   "cell_type": "code",
   "execution_count": 25,
   "metadata": {},
   "outputs": [],
   "source": [
    "summury_align = AlignInfo.SummaryInfo(alignment)"
   ]
  },
  {
   "cell_type": "code",
   "execution_count": null,
   "metadata": {},
   "outputs": [],
   "source": [
    "# summary_align объект имеет множество методов, один из которых dumb_consensus() используется для\n",
    "# расчета простой консенсусной строки:"
   ]
  },
  {
   "cell_type": "code",
   "execution_count": 27,
   "metadata": {},
   "outputs": [
    {
     "name": "stdout",
     "output_type": "stream",
     "text": [
      "MGGXSSXXRXGMGXNLSVPNPLGFFPDHQLDPAFXANSXNPDWDFNPXKDXWPXANXVGXGAFGPGFTPPHGGLLGWSPQAQGXLTTXPAXPPPASTNRQSGRQPTPXSPPLRDXHPQAMQWNSTXFHQXLXDPRVRGLYFPAGGSSSGTVNPXPXXASXISSIXSXTGDPAXNMENITSGXLGPLLVLQAGFFLLTXILTIPQSLDSWWTSLNFLGGXPXCXGQNSQSPTSNHSPTSCPPXCPGYRWMCLRRFIIFLFILLLCLIFLLVLLDYQGMLPVCPLXPGSXTTSTGPCXTCTTXAQGTSMFPSCCCTKPXDGNCTCIPIPSSWAFXKXLWEWASXRFSWLSLLVPFVQWFVGLSPTVWLSVIWMMWYWGPSLYXILSPFXPLLPIFFCLWVYI\n"
     ]
    }
   ],
   "source": [
    "consensus = summury_align.dumb_consensus()\n",
    "print(consensus)"
   ]
  },
  {
   "cell_type": "markdown",
   "metadata": {},
   "source": [
    "# Позиционно-специфическая весовая матрица(Position Specific Score Matrices)"
   ]
  },
  {
   "cell_type": "markdown",
   "metadata": {},
   "source": [
    "Position specific score matrices (PSSMs) суммирует информацию выравнивания другим способом, чем\n",
    "консенсус. PSSM содержит для каждой колонки (столбца) выравнивания количество каждой буквы\n",
    "алфавита(аминокислоты).\n",
    "Например,\n",
    "GTATC\n",
    "AT--C\n",
    "CTGTC\n",
    "PSSM следующая:\n",
    "G A T C\n",
    "G 1 1 0 1\n",
    "T 0 0 3 0\n",
    "A 1 1 0 0\n",
    "T 0 0 2 0\n",
    "C 0 0 0 3"
   ]
  },
  {
   "cell_type": "code",
   "execution_count": 29,
   "metadata": {},
   "outputs": [],
   "source": [
    "my_pssm = summury_align.pos_specific_score_matrix( consensus )"
   ]
  },
  {
   "cell_type": "markdown",
   "metadata": {},
   "source": [
    "Можно получить любой элемент PSSM как your_pssm[sequence_number][residue_count_name].\n",
    "Например получить количество’M’ в первом элементе нашего примераPSSM:"
   ]
  },
  {
   "cell_type": "code",
   "execution_count": 30,
   "metadata": {},
   "outputs": [
    {
     "name": "stdout",
     "output_type": "stream",
     "text": [
      "27.0\n"
     ]
    }
   ],
   "source": [
    "print( my_pssm[0][\"M\"])"
   ]
  },
  {
   "cell_type": "markdown",
   "metadata": {},
   "source": [
    "# Матрица замен"
   ]
  },
  {
   "cell_type": "markdown",
   "metadata": {},
   "source": [
    "Матрицы замен являются важным элементов для биоинформатики. Они содержат числа, отражающие\n",
    "вероятность или возможность замены двух аминокислот друг на друга. Это важно при сравнении\n",
    "двух последовательностей. Biopython содержит много вариантов матриц замен, и обеспечивает\n",
    "возможность создания собственной матрицы на основе множественного выравнивания."
   ]
  },
  {
   "cell_type": "code",
   "execution_count": 31,
   "metadata": {},
   "outputs": [],
   "source": [
    "replace_info = summury_align.replacement_dictionary()"
   ]
  },
  {
   "cell_type": "code",
   "execution_count": 32,
   "metadata": {},
   "outputs": [
    {
     "name": "stdout",
     "output_type": "stream",
     "text": [
      "876.0\n"
     ]
    }
   ],
   "source": [
    "print(replace_info[(\"A\", \"G\")])"
   ]
  },
  {
   "cell_type": "code",
   "execution_count": 33,
   "metadata": {},
   "outputs": [
    {
     "name": "stdout",
     "output_type": "stream",
     "text": [
      "12.0\n"
     ]
    }
   ],
   "source": [
    "print(replace_info[(\"A\", \"K\")])"
   ]
  },
  {
   "cell_type": "markdown",
   "metadata": {},
   "source": [
    "Мы используем метод replacement dictionary() для получения инфомации для создания Accepted\n",
    "Replacement Matrix (ARM). Это осуществляется с использованием функции SeqMat()  внутри\n",
    "модуля SubsMat"
   ]
  },
  {
   "cell_type": "code",
   "execution_count": 34,
   "metadata": {},
   "outputs": [],
   "source": [
    "from Bio import SubsMat"
   ]
  },
  {
   "cell_type": "code",
   "execution_count": 104,
   "metadata": {},
   "outputs": [],
   "source": [
    "my_arm = SubsMat.SeqMat(replace_info)"
   ]
  },
  {
   "cell_type": "markdown",
   "metadata": {},
   "source": [
    "С использованием полученной accepted replacement matrix, можно рассчитать log odds matrix (т.е.\n",
    "стандартный тип Substitution Matrix)"
   ]
  },
  {
   "cell_type": "code",
   "execution_count": 36,
   "metadata": {},
   "outputs": [],
   "source": [
    "my_lom = SubsMat.make_log_odds_matrix(my_arm)"
   ]
  },
  {
   "cell_type": "code",
   "execution_count": 110,
   "metadata": {},
   "outputs": [],
   "source": [
    "# sm.LogOddsMatrix.print_mat(my_lom, f = file, format=\"%4d\",bottomformat=\"%4s\",alphabet=None)"
   ]
  },
  {
   "cell_type": "code",
   "execution_count": null,
   "metadata": {},
   "outputs": [],
   "source": []
  }
 ],
 "metadata": {
  "kernelspec": {
   "display_name": "Python 3",
   "language": "python",
   "name": "python3"
  },
  "language_info": {
   "codemirror_mode": {
    "name": "ipython",
    "version": 3
   },
   "file_extension": ".py",
   "mimetype": "text/x-python",
   "name": "python",
   "nbconvert_exporter": "python",
   "pygments_lexer": "ipython3",
   "version": "3.7.2"
  }
 },
 "nbformat": 4,
 "nbformat_minor": 2
}
