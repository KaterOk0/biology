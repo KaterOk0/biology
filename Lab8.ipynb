{
 "cells": [
  {
   "cell_type": "code",
   "execution_count": 14,
   "metadata": {
    "pycharm": {
     "is_executing": false,
     "metadata": false,
     "name": "#%%\n"
    }
   },
   "outputs": [],
   "source": [
    "from copy import deepcopy\n",
    "from functools import reduce"
   ]
  },
  {
   "cell_type": "code",
   "execution_count": 4,
   "metadata": {
    "pycharm": {
     "is_executing": false,
     "metadata": false,
     "name": "#%%\n"
    }
   },
   "outputs": [],
   "source": [
    "bwt = \"annb$aa\""
   ]
  },
  {
   "cell_type": "code",
   "execution_count": 5,
   "metadata": {
    "collapsed": true,
    "pycharm": {
     "is_executing": false
    }
   },
   "outputs": [],
   "source": [
    "def FM_index(s):\n",
    "    symbols = sorted(list(set(s)))\n",
    "    matrix = [{x: 0 for x in symbols}]\n",
    "    \n",
    "    i = 0\n",
    "    for x in s:\n",
    "        matrix.append(deepcopy(matrix[-1]))\n",
    "        matrix[-1][x] += 1\n",
    "        i += 1\n",
    "    \n",
    "    offset = {x: 0 for x in symbols}\n",
    "    for i in range(1, len(symbols)):\n",
    "        offset[symbols[i]] = offset[symbols[i - 1]] + matrix[-1][symbols[i - 1]]\n",
    "    return matrix, offset"
   ]
  },
  {
   "cell_type": "code",
   "execution_count": 7,
   "metadata": {
    "pycharm": {
     "is_executing": false,
     "metadata": false,
     "name": "#%%\n"
    }
   },
   "outputs": [
    {
     "name": "stdout",
     "output_type": "stream",
     "text": [
      " $, a, b, n\n",
      " 0, 0, 0, 0\n",
      " 0, 1, 0, 0\n",
      " 0, 1, 0, 1\n",
      " 0, 1, 0, 2\n",
      " 0, 1, 1, 2\n",
      " 1, 1, 1, 2\n",
      " 1, 2, 1, 2\n",
      " 1, 3, 1, 2\n"
     ]
    }
   ],
   "source": [
    "FM, offset = FM_index(bwt)\n",
    "\n",
    "print (\"%2s,%2s,%2s,%2s\" % tuple([symbol for symbol in sorted(offset.keys())]))\n",
    "for row in FM:\n",
    "    print (\"%2d,%2d,%2d,%2d\" % tuple([row[symbol] for symbol in sorted(row.keys())]))"
   ]
  },
  {
   "cell_type": "code",
   "execution_count": 8,
   "metadata": {
    "pycharm": {
     "is_executing": false,
     "metadata": false,
     "name": "#%%\n"
    }
   },
   "outputs": [],
   "source": [
    "def find_BWT(s, FM, offset):\n",
    "    lo = 0\n",
    "    hi = -1\n",
    "    for x in s[::-1]:\n",
    "        lo = offset[x] + FM[lo][x]\n",
    "        hi = offset[x] + FM[hi][x]\n",
    "    return lo, hi"
   ]
  },
  {
   "cell_type": "code",
   "execution_count": 9,
   "metadata": {
    "pycharm": {
     "is_executing": false,
     "metadata": false,
     "name": "#%%\n"
    }
   },
   "outputs": [
    {
     "name": "stdout",
     "output_type": "stream",
     "text": [
      "(2, 4)\n",
      "(4, 5)\n",
      "(4, 4)\n"
     ]
    }
   ],
   "source": [
    "print(find_BWT(\"ana\", FM, offset))\n",
    "print(find_BWT(\"ban\", FM, offset))\n",
    "print(find_BWT(\"ann\", FM, offset))"
   ]
  },
  {
   "cell_type": "code",
   "execution_count": 68,
   "metadata": {
    "pycharm": {
     "is_executing": false,
     "metadata": false,
     "name": "#%%\n"
    }
   },
   "outputs": [],
   "source": [
    "def inverse_BWT(s):\n",
    "    col = []\n",
    "    for x in s:\n",
    "        col.append(x)  \n",
    "    while len(col[0]) != len(s):\n",
    "        sorted_col = sorted(col)\n",
    "        col = [x + sorted_col[i] for i, x in enumerate(s)]\n",
    "    for i in col:\n",
    "        if i[-1] == '$':\n",
    "            return i"
   ]
  },
  {
   "cell_type": "code",
   "execution_count": 69,
   "metadata": {
    "pycharm": {
     "is_executing": false,
     "metadata": false,
     "name": "#%%\n"
    }
   },
   "outputs": [],
   "source": [
    "def possible_rotation(s):\n",
    "    l = len(s)\n",
    "    for i in range (l):\n",
    "        c = s[i:] + s[:i] \n",
    "        yield c"
   ]
  },
  {
   "cell_type": "code",
   "execution_count": 70,
   "metadata": {
    "pycharm": {
     "is_executing": false,
     "metadata": false,
     "name": "#%% \n"
    }
   },
   "outputs": [],
   "source": [
    "def BWT(s):\n",
    "    rotations = list(possible_rotation(s))\n",
    "    sorted_rotations = sorted(rotations)\n",
    "    return ''.join([x[-1] for x in sorted_rotations])"
   ]
  },
  {
   "cell_type": "code",
   "execution_count": 71,
   "metadata": {
    "pycharm": {
     "is_executing": false,
     "metadata": false,
     "name": "#%%\n"
    }
   },
   "outputs": [],
   "source": [
    "def test_BTW(s):\n",
    "    print('Test BWT and inverse_BWT for',s)\n",
    "    bwt = BWT(s)\n",
    "    print('BWT:',bwt)\n",
    "    inv = inverse_BWT(bwt)\n",
    "    print('inverse BWT:',inv)"
   ]
  },
  {
   "cell_type": "code",
   "execution_count": 72,
   "metadata": {
    "pycharm": {
     "is_executing": false,
     "metadata": false,
     "name": "#%%\n"
    }
   },
   "outputs": [
    {
     "name": "stdout",
     "output_type": "stream",
     "text": [
      "Test BWT and inverse_BWT for ltherea$\n",
      "BWT: aerht$el\n",
      "inverse BWT: ltherea$\n",
      "Test BWT and inverse_BWT for amnnn$lcpmnapaaaaaaala\n",
      "BWT: npaaaaalaanla$panmnmac\n",
      "inverse BWT: lcpmnapaaaaaaalaamnnn$\n",
      "Test BWT and inverse_BWT for annb$aa\n",
      "BWT: b$aanna\n",
      "inverse BWT: aaannb$\n",
      "Test BWT and inverse_BWT for nn$bnbaaaaa\n",
      "BWT: nbaaaan$nba\n",
      "inverse BWT: bnbaaaaann$\n"
     ]
    }
   ],
   "source": [
    "test_BTW(\"ltherea$\")\n",
    "test_BTW(\"amnnn$lcpmnapaaaaaaala\")\n",
    "test_BTW(\"annb$aa\")\n",
    "test_BTW(\"nn$bnbaaaaa\")"
   ]
  },
  {
   "cell_type": "code",
   "execution_count": null,
   "metadata": {
    "pycharm": {
     "metadata": false,
     "name": "#%%\n"
    }
   },
   "outputs": [],
   "source": [
    "\n"
   ]
  }
 ],
 "metadata": {
  "kernelspec": {
   "display_name": "Python 3",
   "language": "python",
   "name": "python3"
  },
  "language_info": {
   "codemirror_mode": {
    "name": "ipython",
    "version": 3
   },
   "file_extension": ".py",
   "mimetype": "text/x-python",
   "name": "python",
   "nbconvert_exporter": "python",
   "pygments_lexer": "ipython3",
   "version": "3.7.2"
  },
  "stem_cell": {
   "cell_type": "raw",
   "metadata": {
    "pycharm": {
     "metadata": false
    }
   },
   "source": ""
  }
 },
 "nbformat": 4,
 "nbformat_minor": 1
}
