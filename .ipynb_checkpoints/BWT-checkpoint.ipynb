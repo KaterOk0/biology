{
 "cells": [
  {
   "cell_type": "code",
   "execution_count": 4,
   "metadata": {},
   "outputs": [],
   "source": [
    "import numpy as np\n",
    "from copy import deepcopy"
   ]
  },
  {
   "cell_type": "code",
   "execution_count": 5,
   "metadata": {},
   "outputs": [],
   "source": [
    "def FMIndex(bwt):\n",
    "    symbols = sorted(np.unique([symb for symb in bwt]))\n",
    "    matrix = [{symb: 0 for symb in symbols}]\n",
    "    for i, symb in enumerate(bwt):\n",
    "        matrix.append(deepcopy(matrix[-1]))\n",
    "        matrix[-1][symb] += 1\n",
    "    Offset = {symb: 0 for symb in symbols}\n",
    "    for i in range(1, len(symbols)):\n",
    "        Offset[symbols[i]] = Offset[symbols[i - 1]] + matrix[-1][symbols[i - 1]]\n",
    "    return matrix, Offset"
   ]
  },
  {
   "cell_type": "code",
   "execution_count": 9,
   "metadata": {},
   "outputs": [
    {
     "name": "stdout",
     "output_type": "stream",
     "text": [
      " $, a, b, n\n",
      " 0, 0, 0, 0\n",
      " 0, 1, 0, 0\n",
      " 0, 1, 0, 1\n",
      " 0, 1, 0, 2\n",
      " 0, 1, 1, 2\n",
      " 1, 1, 1, 2\n",
      " 1, 2, 1, 2\n",
      " 1, 3, 1, 2\n",
      "\n",
      "\n",
      "{'$': 0, 'a': 1, 'b': 4, 'n': 5}\n"
     ]
    }
   ],
   "source": [
    "bwt = \"annb$aa\"\n",
    "FM, Offset = FMIndex(bwt)\n",
    "\n",
    "print (\"%2s,%2s,%2s,%2s\" % tuple([symbol for symbol in sorted(Offset.keys())]))\n",
    "for row in FM:\n",
    "    print (\"%2d,%2d,%2d,%2d\" % tuple([row[symbol] for symbol in sorted(row.keys())]))\n",
    "print('\\n')   \n",
    "print(Offset)"
   ]
  },
  {
   "cell_type": "code",
   "execution_count": 10,
   "metadata": {},
   "outputs": [],
   "source": [
    "def findBWT(s, FM, Offset):\n",
    "    lo = 0\n",
    "    hi = -1\n",
    "    for symb in s[::-1]:\n",
    "        lo = Offset[symb] + FM[lo][symb]\n",
    "        hi = Offset[symb] + FM[hi][symb]\n",
    "    return lo, hi"
   ]
  },
  {
   "cell_type": "code",
   "execution_count": 11,
   "metadata": {},
   "outputs": [
    {
     "name": "stdout",
     "output_type": "stream",
     "text": [
      "(2, 4)\n",
      "(4, 5)\n",
      "(4, 4)\n"
     ]
    }
   ],
   "source": [
    "print(findBWT(\"ana\", FM, Offset))\n",
    "print(findBWT(\"ban\", FM, Offset))\n",
    "print(findBWT(\"ann\", FM, Offset))"
   ]
  },
  {
   "cell_type": "code",
   "execution_count": 12,
   "metadata": {},
   "outputs": [],
   "source": [
    "def inverseBWT(s):\n",
    "    column = [symb for symb in s]\n",
    "    while len(column[0]) != len(s):\n",
    "        sorted_column = sorted(column)\n",
    "        column = [symb + sorted_column[i] for i, symb in enumerate(s)]\n",
    "    for i in column:\n",
    "        if i[-1] == '$':\n",
    "            return i"
   ]
  },
  {
   "cell_type": "code",
   "execution_count": 13,
   "metadata": {},
   "outputs": [
    {
     "name": "stdout",
     "output_type": "stream",
     "text": [
      "tarheel$\n",
      "amanaplanacanalpanama$\n",
      "banana$\n",
      "abananaban$\n"
     ]
    }
   ],
   "source": [
    "print(inverseBWT(\"ltherea$\"))\n",
    "print(inverseBWT(\"amnnn$lcpmnapaaaaaaala\"))\n",
    "print(inverseBWT(\"annb$aa\"))\n",
    "print(inverseBWT(\"nn$bnbaaaaa\"))"
   ]
  },
  {
   "cell_type": "code",
   "execution_count": null,
   "metadata": {},
   "outputs": [],
   "source": []
  }
 ],
 "metadata": {
  "kernelspec": {
   "display_name": "Python 3",
   "language": "python",
   "name": "python3"
  },
  "language_info": {
   "codemirror_mode": {
    "name": "ipython",
    "version": 3
   },
   "file_extension": ".py",
   "mimetype": "text/x-python",
   "name": "python",
   "nbconvert_exporter": "python",
   "pygments_lexer": "ipython3",
   "version": "3.7.2"
  }
 },
 "nbformat": 4,
 "nbformat_minor": 2
}
