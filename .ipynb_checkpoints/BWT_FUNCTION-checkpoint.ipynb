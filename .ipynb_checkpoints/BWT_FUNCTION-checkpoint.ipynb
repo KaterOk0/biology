{
 "cells": [
  {
   "cell_type": "code",
   "execution_count": 20,
   "metadata": {},
   "outputs": [],
   "source": [
    "def BWT(s):\n",
    "    n = len(s)\n",
    "#   тут мы получаем список всех \"перестановок\"\n",
    "    list = [s[i:n]+s[0:i] for i in range(n)]\n",
    "    #сортируем (по алфавиту)\n",
    "    m = sorted(list)\n",
    "    # и  в каждой строке из листа выбираем последний симол\n",
    "    I = m.index(s)\n",
    "    L = ''.join([q[-1] for q in m])\n",
    "    return L"
   ]
  },
  {
   "cell_type": "code",
   "execution_count": 21,
   "metadata": {},
   "outputs": [],
   "source": [
    "s1 = BWT(\"ltherea$\")\n",
    "s2 = BWT(\"amnnn$lcpmnapaaaaaaala\")\n",
    "s3 = BWT(\"annb$aa\")\n",
    "s4 = BWT(\"nn$bnbaaaaa\")"
   ]
  },
  {
   "cell_type": "code",
   "execution_count": 22,
   "metadata": {},
   "outputs": [],
   "source": [
    "def inverseBWT(s):\n",
    "    column = [symb for symb in s]\n",
    "    while len(column[0]) != len(s):\n",
    "        sorted_column = sorted(column)\n",
    "        column = [symb + sorted_column[i] for i, symb in enumerate(s)]\n",
    "    for i in column:\n",
    "        if i[-1] == '$':\n",
    "            return i"
   ]
  },
  {
   "cell_type": "code",
   "execution_count": 23,
   "metadata": {},
   "outputs": [
    {
     "name": "stdout",
     "output_type": "stream",
     "text": [
      "aerht$el\n",
      "ltherea$\n"
     ]
    }
   ],
   "source": [
    "print(s1)\n",
    "print(inverseBWT(s1))"
   ]
  },
  {
   "cell_type": "code",
   "execution_count": 24,
   "metadata": {},
   "outputs": [
    {
     "name": "stdout",
     "output_type": "stream",
     "text": [
      "npaaaaalaanla$panmnmac\n",
      "lcpmnapaaaaaaalaamnnn$\n"
     ]
    }
   ],
   "source": [
    "print(s2)\n",
    "print(inverseBWT(s2))"
   ]
  },
  {
   "cell_type": "code",
   "execution_count": 25,
   "metadata": {},
   "outputs": [
    {
     "name": "stdout",
     "output_type": "stream",
     "text": [
      "b$aanna\n",
      "aaannb$\n"
     ]
    }
   ],
   "source": [
    "print(s3)\n",
    "print(inverseBWT(s3))"
   ]
  },
  {
   "cell_type": "code",
   "execution_count": 26,
   "metadata": {},
   "outputs": [
    {
     "name": "stdout",
     "output_type": "stream",
     "text": [
      "nbaaaan$nba\n",
      "bnbaaaaann$\n"
     ]
    }
   ],
   "source": [
    "print(s4)\n",
    "print(inverseBWT(s4))"
   ]
  },
  {
   "cell_type": "code",
   "execution_count": null,
   "metadata": {},
   "outputs": [],
   "source": []
  }
 ],
 "metadata": {
  "kernelspec": {
   "display_name": "Python 3",
   "language": "python",
   "name": "python3"
  },
  "language_info": {
   "codemirror_mode": {
    "name": "ipython",
    "version": 3
   },
   "file_extension": ".py",
   "mimetype": "text/x-python",
   "name": "python",
   "nbconvert_exporter": "python",
   "pygments_lexer": "ipython3",
   "version": "3.7.2"
  }
 },
 "nbformat": 4,
 "nbformat_minor": 2
}
