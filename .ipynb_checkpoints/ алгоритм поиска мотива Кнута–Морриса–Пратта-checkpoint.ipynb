{
 "cells": [
  {
   "cell_type": "markdown",
   "metadata": {},
   "source": [
    "http://kodomo.cmm.msu.ru/FBB/lectures/algbook.pdf"
   ]
  },
  {
   "cell_type": "raw",
   "metadata": {},
   "source": [
    "строка P \n",
    "паттерн T\n",
    "Префикс-функция pi(P)\n",
    "1. сначала ищем все префиксы и записываем в таблицу"
   ]
  },
  {
   "cell_type": "code",
   "execution_count": 51,
   "metadata": {},
   "outputs": [],
   "source": [
    "pattern = 'abb'\n",
    "text = 'abanjsnanmdkaabbb'"
   ]
  },
  {
   "cell_type": "code",
   "execution_count": 52,
   "metadata": {},
   "outputs": [],
   "source": [
    "pattern = list(pattern)"
   ]
  },
  {
   "cell_type": "code",
   "execution_count": 53,
   "metadata": {},
   "outputs": [],
   "source": [
    "pi = [1] * (len(pattern) + 1)\n",
    "i = 1\n",
    "for j in range(len(pattern)):\n",
    "    while i <= j and pattern[j] != pattern[j - i]:\n",
    "        i += pi[j - i]\n",
    "    pi[j + 1] = i"
   ]
  },
  {
   "cell_type": "code",
   "execution_count": 54,
   "metadata": {},
   "outputs": [
    {
     "data": {
      "text/plain": [
       "[1, 1, 2, 3]"
      ]
     },
     "execution_count": 54,
     "metadata": {},
     "output_type": "execute_result"
    }
   ],
   "source": [
    "pi"
   ]
  },
  {
   "cell_type": "code",
   "execution_count": 55,
   "metadata": {},
   "outputs": [],
   "source": [
    "startPos = 0\n",
    "matchLen = 0\n",
    "for c in text:\n",
    "    while matchLen == len(pattern) or \\\n",
    "          matchLen >= 0 and pattern[matchLen] != c:\n",
    "        startPos += pi[matchLen]\n",
    "        matchLen -= pi[matchLen]\n",
    "    matchLen += 1\n",
    "    if matchLen == len(pattern):\n",
    "        break;"
   ]
  },
  {
   "cell_type": "code",
   "execution_count": 56,
   "metadata": {},
   "outputs": [
    {
     "data": {
      "text/plain": [
       "13"
      ]
     },
     "execution_count": 56,
     "metadata": {},
     "output_type": "execute_result"
    }
   ],
   "source": [
    "startPos"
   ]
  }
 ],
 "metadata": {
  "kernelspec": {
   "display_name": "Python 3",
   "language": "python",
   "name": "python3"
  },
  "language_info": {
   "codemirror_mode": {
    "name": "ipython",
    "version": 3
   },
   "file_extension": ".py",
   "mimetype": "text/x-python",
   "name": "python",
   "nbconvert_exporter": "python",
   "pygments_lexer": "ipython3",
   "version": "3.7.2"
  }
 },
 "nbformat": 4,
 "nbformat_minor": 2
}
