{
 "cells": [
  {
   "cell_type": "code",
   "execution_count": 2,
   "metadata": {
    "collapsed": true,
    "pycharm": {
     "is_executing": false
    }
   },
   "outputs": [],
   "source": [
    "import itertools\n",
    "from Bio import Phylo\n",
    "import pandas as pd\n",
    "import numpy as np"
   ]
  },
  {
   "cell_type": "code",
   "execution_count": 3,
   "metadata": {
    "pycharm": {
     "is_executing": false,
     "metadata": false,
     "name": "#%%\n"
    }
   },
   "outputs": [],
   "source": [
    "tree = Phylo.read(\"treehygger.newick.txt\", \"newick\")"
   ]
  },
  {
   "cell_type": "code",
   "execution_count": 4,
   "metadata": {
    "pycharm": {
     "is_executing": false,
     "metadata": false,
     "name": "#%%\n"
    }
   },
   "outputs": [
    {
     "name": "stdout",
     "output_type": "stream",
     "text": [
      "Tree(rooted=False, weight=1.0)\n",
      "    Clade()\n",
      "        Clade(branch_length=0.035948, name='Fin_whale')\n",
      "        Clade(branch_length=0.014237)\n",
      "            Clade(branch_length=0.030944)\n",
      "                Clade(branch_length=0.01666, name='Monkey_macaque')\n",
      "                Clade(branch_length=0.011452, name='Human')\n",
      "            Clade(branch_length=0.020308)\n",
      "                Clade(branch_length=0.076269)\n",
      "                    Clade(branch_length=0.037462)\n",
      "                        Clade(branch_length=0.188661, name='Fruit_fly')\n",
      "                        Clade(branch_length=0.019359)\n",
      "                            Clade(branch_length=0.046945)\n",
      "                                Clade(branch_length=0.355627)\n",
      "                                    Clade(branch_length=0.127047, name='Methanocaldococcus_jannaschii')\n",
      "                                    Clade(branch_length=0.101869, name='Pyrococcus')\n",
      "                                Clade(branch_length=0.197586, name='Yeast')\n",
      "                            Clade(branch_length=0.038522)\n",
      "                                Clade(branch_length=0.047703)\n",
      "                                    Clade(branch_length=0.108894, name='Soy')\n",
      "                                    Clade(branch_length=0.109982, name='Arabidopsis')\n",
      "                                Clade(branch_length=0.164144, name='Rice')\n",
      "                    Clade(branch_length=0.030309)\n",
      "                        Clade(branch_length=0.098143, name='African_frog')\n",
      "                        Clade(branch_length=0.203062, name='Salmon')\n",
      "                Clade(branch_length=0.025984)\n",
      "                    Clade(branch_length=0.029512, name='Rat')\n",
      "                    Clade(branch_length=0.022697, name='Mouse')\n",
      "        Clade(branch_length=0.040357, name='Pig')\n"
     ]
    }
   ],
   "source": [
    "print(tree)\n"
   ]
  },
  {
   "cell_type": "code",
   "execution_count": 5,
   "metadata": {
    "pycharm": {
     "is_executing": false,
     "metadata": false,
     "name": "#%%\n"
    }
   },
   "outputs": [],
   "source": [
    "d = {}\n",
    "for x, y in itertools.combinations(tree.get_terminals(), 2):\n",
    "    v = tree.distance(x, y)\n",
    "    d[x.name] = d.get(x.name, {})\n",
    "    d[x.name][y.name] = v\n",
    "    d[y.name] = d.get(y.name, {})\n",
    "    d[y.name][x.name] = v\n",
    "for x in tree.get_terminals():\n",
    "    d[x.name][x.name] = 0\n"
   ]
  },
  {
   "cell_type": "code",
   "execution_count": 6,
   "metadata": {
    "pycharm": {
     "is_executing": false,
     "metadata": false,
     "name": "#%%\n"
    }
   },
   "outputs": [],
   "source": [
    "m = pd.DataFrame(d)"
   ]
  },
  {
   "cell_type": "code",
   "execution_count": 7,
   "metadata": {
    "pycharm": {
     "is_executing": false,
     "metadata": false,
     "name": "#%%\n"
    }
   },
   "outputs": [],
   "source": [
    "m = m.sort_index(axis=0)\n",
    "m = m.sort_index(axis=1)"
   ]
  },
  {
   "cell_type": "code",
   "execution_count": 8,
   "metadata": {
    "pycharm": {
     "is_executing": false,
     "metadata": false,
     "name": "#%%\n"
    }
   },
   "outputs": [
    {
     "name": "stderr",
     "output_type": "stream",
     "text": [
      "/home/guiscard/Labs/Bioinformatics/venv/lib/python3.6/site-packages/ipykernel_launcher.py:1: FutureWarning: Method .as_matrix will be removed in a future version. Use .values instead.\n",
      "  \"\"\"Entry point for launching an IPython kernel.\n"
     ]
    }
   ],
   "source": [
    "dist_matrix = np.array(m.as_matrix())"
   ]
  },
  {
   "cell_type": "code",
   "execution_count": 9,
   "metadata": {
    "pycharm": {
     "is_executing": false,
     "metadata": false,
     "name": "#%%\n"
    }
   },
   "outputs": [],
   "source": [
    "names = sorted(list(map(lambda clade: clade.name, tree.get_terminals())))"
   ]
  },
  {
   "cell_type": "code",
   "execution_count": 89,
   "metadata": {
    "pycharm": {
     "is_executing": false,
     "metadata": false,
     "name": "#%%\n"
    }
   },
   "outputs": [],
   "source": [
    "from sklearn.cluster import DBSCAN"
   ]
  },
  {
   "cell_type": "code",
   "execution_count": 126,
   "metadata": {
    "pycharm": {
     "is_executing": false,
     "metadata": false,
     "name": "#%%\n"
    }
   },
   "outputs": [],
   "source": [
    "dbscan = DBSCAN(metric='precomputed', min_samples=1, eps=.35, n_jobs=-1)"
   ]
  },
  {
   "cell_type": "code",
   "execution_count": 127,
   "metadata": {
    "pycharm": {
     "is_executing": false,
     "metadata": false,
     "name": "#%%\n"
    }
   },
   "outputs": [],
   "source": [
    "db = dbscan.fit(dist_matrix)"
   ]
  },
  {
   "cell_type": "code",
   "execution_count": 128,
   "metadata": {
    "pycharm": {
     "is_executing": false,
     "metadata": false,
     "name": "#%%\n"
    }
   },
   "outputs": [],
   "source": [
    "clusters = db.labels_\n",
    "predicts = db.fit_predict(dist_matrix)"
   ]
  },
  {
   "cell_type": "code",
   "execution_count": 129,
   "metadata": {
    "pycharm": {
     "is_executing": false,
     "metadata": false,
     "name": "#%%\n"
    }
   },
   "outputs": [],
   "source": [
    "classes = {predict: [] for predict in predicts}"
   ]
  },
  {
   "cell_type": "code",
   "execution_count": 130,
   "metadata": {
    "pycharm": {
     "is_executing": false,
     "metadata": false,
     "name": "#%%\n"
    }
   },
   "outputs": [],
   "source": [
    "for index, predict in enumerate(predicts):\n",
    "    classes[predict].append(index)"
   ]
  },
  {
   "cell_type": "code",
   "execution_count": 131,
   "metadata": {
    "pycharm": {
     "is_executing": false,
     "metadata": false,
     "name": "#%%\n"
    }
   },
   "outputs": [
    {
     "name": "stdout",
     "output_type": "stream",
     "text": [
      "Clades in class 0\n",
      "African_frog\n",
      "Fin_whale\n",
      "Human\n",
      "Monkey_macaque\n",
      "Mouse\n",
      "Pig\n",
      "Rat\n",
      "Salmon\n",
      "Clades in class 1\n",
      "Arabidopsis\n",
      "Rice\n",
      "Soy\n",
      "Clades in class 2\n",
      "Fruit_fly\n",
      "Clades in class 3\n",
      "Methanocaldococcus_jannaschii\n",
      "Pyrococcus\n",
      "Clades in class 4\n",
      "Yeast\n"
     ]
    }
   ],
   "source": [
    "for predict, clades in classes.items():\n",
    "    print(f'Clades in class {predict}')\n",
    "    for clade in clades:\n",
    "        print(names[clade])"
   ]
  },
  {
   "cell_type": "code",
   "execution_count": 125,
   "metadata": {
    "pycharm": {
     "is_executing": false,
     "metadata": false,
     "name": "#%%\n"
    }
   },
   "outputs": [],
   "source": []
  }
 ],
 "metadata": {
  "kernelspec": {
   "display_name": "Python 3",
   "language": "python",
   "name": "python3"
  },
  "language_info": {
   "codemirror_mode": {
    "name": "ipython",
    "version": 3
   },
   "file_extension": ".py",
   "mimetype": "text/x-python",
   "name": "python",
   "nbconvert_exporter": "python",
   "pygments_lexer": "ipython3",
   "version": "3.7.2"
  }
 },
 "nbformat": 4,
 "nbformat_minor": 1
}
