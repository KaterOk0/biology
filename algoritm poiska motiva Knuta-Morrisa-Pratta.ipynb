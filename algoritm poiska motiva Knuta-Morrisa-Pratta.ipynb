{
 "cells": [
  {
   "cell_type": "markdown",
   "metadata": {},
   "source": [
    "http://kodomo.cmm.msu.ru/FBB/lectures/algbook.pdf"
   ]
  },
  {
   "cell_type": "raw",
   "metadata": {},
   "source": [
    "строка P \n",
    "паттерн T\n",
    "Префикс-функция pi(P)\n",
    "1. сначала ищем все префиксы и записываем в таблицу"
   ]
  },
  {
   "cell_type": "code",
   "execution_count": 22,
   "metadata": {},
   "outputs": [
    {
     "data": {
      "text/plain": [
       "'aabaa$aabaabaaaabaabaaab'"
      ]
     },
     "execution_count": 22,
     "metadata": {},
     "output_type": "execute_result"
    }
   ],
   "source": [
    "pattern = 'aabaa'\n",
    "text = 'aabaabaaaabaabaaab'\n",
    "st = pattern + '$' + text\n",
    "st"
   ]
  },
  {
   "cell_type": "code",
   "execution_count": 25,
   "metadata": {},
   "outputs": [],
   "source": [
    "pi = [0]\n",
    "for i in range(1, len(st)):\n",
    "    j = pi[i - 1]\n",
    "    while j > 0 and st[j] != st[i]:\n",
    "        j = pi[j - 1]\n",
    "    if st[j] == st[i]:\n",
    "        pi.append(j + 1)\n",
    "    else:\n",
    "        pi.append(j)"
   ]
  },
  {
   "cell_type": "code",
   "execution_count": 33,
   "metadata": {},
   "outputs": [
    {
     "name": "stdout",
     "output_type": "stream",
     "text": [
      "aabaa$aabaabaaaabaabaaab\n",
      " a  a  b  a  a  $  a  a  b  a  a  b  a  a  a  a  b  a  a  b  a  a  a  b  \n",
      "[0, 1, 0, 1, 2, 0, 1, 2, 3, 4, 5, 3, 4, 5, 2, 2, 3, 4, 5, 3, 4, 5, 2, 3]\n"
     ]
    }
   ],
   "source": [
    "print(st)\n",
    "s = ' '\n",
    "for i in st:\n",
    "    s += i + '  '\n",
    "print(s)\n",
    "print(pi)"
   ]
  },
  {
   "cell_type": "code",
   "execution_count": 57,
   "metadata": {},
   "outputs": [],
   "source": [
    "length = len(pattern)\n",
    "everyStartSymbol = []\n",
    "for i in range(len(pattern) + 1, len(pi)):\n",
    "    if pi[i] == length:\n",
    "        everyStartSymbol.append(i - length + 1 - (len(pattern) + 1))"
   ]
  },
  {
   "cell_type": "code",
   "execution_count": 58,
   "metadata": {},
   "outputs": [
    {
     "data": {
      "text/plain": [
       "[0, 3, 8, 11]"
      ]
     },
     "execution_count": 58,
     "metadata": {},
     "output_type": "execute_result"
    }
   ],
   "source": [
    "everyStartSymbol"
   ]
  },
  {
   "cell_type": "code",
   "execution_count": 60,
   "metadata": {},
   "outputs": [
    {
     "name": "stdout",
     "output_type": "stream",
     "text": [
      " a  a  b  a  a  b  a  a  a  a  b  a  a  b  a  a  a  b  \n"
     ]
    }
   ],
   "source": [
    "s = ' '\n",
    "for i in text:\n",
    "    s += i + '  '\n",
    "print(s)"
   ]
  }
 ],
 "metadata": {
  "kernelspec": {
   "display_name": "Python 3",
   "language": "python",
   "name": "python3"
  },
  "language_info": {
   "codemirror_mode": {
    "name": "ipython",
    "version": 3
   },
   "file_extension": ".py",
   "mimetype": "text/x-python",
   "name": "python",
   "nbconvert_exporter": "python",
   "pygments_lexer": "ipython3",
   "version": "3.7.2"
  }
 },
 "nbformat": 4,
 "nbformat_minor": 2
}
