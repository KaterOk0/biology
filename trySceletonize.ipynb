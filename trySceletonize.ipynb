{
 "cells": [
  {
   "cell_type": "code",
   "execution_count": 17,
   "metadata": {},
   "outputs": [],
   "source": [
    "import cv2\n",
    "import numpy as np\n",
    "from matplotlib import pyplot as plt"
   ]
  },
  {
   "cell_type": "code",
   "execution_count": 18,
   "metadata": {},
   "outputs": [],
   "source": [
    "img = cv2.imread('im.png',0)\n",
    "image = img\n",
    "size = np.size(img)\n",
    "skel = np.zeros(img.shape,np.uint8)"
   ]
  },
  {
   "cell_type": "code",
   "execution_count": 19,
   "metadata": {},
   "outputs": [],
   "source": [
    "element = cv2.getStructuringElement(cv2.MORPH_CROSS,(3,3))\n",
    "ret,img = cv2.threshold(img,127,255,0)"
   ]
  },
  {
   "cell_type": "code",
   "execution_count": 20,
   "metadata": {},
   "outputs": [],
   "source": [
    "skeleton_set = []\n",
    "while True:\n",
    "    eroded = cv2.erode(img, element)\n",
    "    if np.sum(eroded) == 0:\n",
    "        skeleton_set.append(img)\n",
    "        break\n",
    "    dilate = cv2.dilate(eroded, element)\n",
    "    skeleton_set.append(img ^ (img & dilate))\n",
    "    img = eroded\n",
    "resultScel = skeleton_set[0]\n",
    "for skeleton in skeleton_set[1:]:\n",
    "    resultScel = resultScel | skeleton\n"
   ]
  },
  {
   "cell_type": "code",
   "execution_count": 21,
   "metadata": {},
   "outputs": [],
   "source": [
    "resultRec = skeleton_set[-1]\n",
    "for skeleton in skeleton_set[-2::-1]:\n",
    "    resultRec = cv2.dilate(resultRec, element)\n",
    "    resultRec = resultRec | skeleton"
   ]
  },
  {
   "cell_type": "code",
   "execution_count": 22,
   "metadata": {},
   "outputs": [
    {
     "data": {
      "text/plain": [
       "Text(0.5, 1.0, 'Again Original')"
      ]
     },
     "execution_count": 22,
     "metadata": {},
     "output_type": "execute_result"
    },
    {
     "data": {
      "image/png": "[encoded data removed]",
      "text/plain": [
       "<Figure size 576x216 with 3 Axes>"
      ]
     },
     "metadata": {
      "needs_background": "light"
     },
     "output_type": "display_data"
    }
   ],
   "source": [
    "fig, axes = plt.subplots(ncols = 3, figsize=(8, 3))\n",
    "ax = axes.ravel()\n",
    "\n",
    "ax[0].imshow(image, cmap=plt.cm.gray)\n",
    "ax[0].set_title('Original')\n",
    "\n",
    "ax[1].imshow(resultScel, cmap=plt.cm.gray)\n",
    "ax[1].set_title('Skeleton')\n",
    "\n",
    "ax[2].imshow(resultRec, cmap=plt.cm.gray)\n",
    "ax[2].set_title('Again Original')"
   ]
  },
  {
   "cell_type": "code",
   "execution_count": null,
   "metadata": {},
   "outputs": [],
   "source": []
  },
  {
   "cell_type": "code",
   "execution_count": null,
   "metadata": {},
   "outputs": [],
   "source": []
  },
  {
   "cell_type": "code",
   "execution_count": null,
   "metadata": {},
   "outputs": [],
   "source": []
  }
 ],
 "metadata": {
  "kernelspec": {
   "display_name": "Python 3",
   "language": "python",
   "name": "python3"
  },
  "language_info": {
   "codemirror_mode": {
    "name": "ipython",
    "version": 3
   },
   "file_extension": ".py",
   "mimetype": "text/x-python",
   "name": "python",
   "nbconvert_exporter": "python",
   "pygments_lexer": "ipython3",
   "version": "3.7.2"
  }
 },
 "nbformat": 4,
 "nbformat_minor": 2
}
